{
  "nbformat": 4,
  "nbformat_minor": 0,
  "metadata": {
    "colab": {
      "provenance": []
    },
    "kernelspec": {
      "name": "python3",
      "display_name": "Python 3"
    },
    "language_info": {
      "name": "python"
    }
  },
  "cells": [
    {
      "cell_type": "markdown",
      "source": [
        "# Q2) Generate ANDNOT function using McCulloch-Pitts neural net by a python program."
      ],
      "metadata": {
        "id": "peTBIx-V7O7u"
      }
    },
    {
      "cell_type": "code",
      "execution_count": 3,
      "metadata": {
        "id": "BAjoiEqy6v6F"
      },
      "outputs": [],
      "source": [
        "# McCulloch-Pitts Neural Net\n",
        "def mcculloch_pitts_neuron(inputs, threshold=3):\n",
        "  weights = [2, 4, 1, 1]; cal = 0\n",
        "  for i in range(len(weights)): \n",
        "    cal += (weights[i] * inputs[i])\n",
        "  \n",
        "  if cal >= threshold: return 1\n",
        "  else: return 0"
      ]
    },
    {
      "cell_type": "code",
      "source": [
        "inputs = [1, 1, 0, 0]\n",
        "# inputs = [0, 0, 1, 0]\n",
        "mcculloch_pitts_neuron(inputs, threshold=3)"
      ],
      "metadata": {
        "id": "xpcUOeg-7NA5"
      },
      "execution_count": null,
      "outputs": []
    },
    {
      "cell_type": "code",
      "source": [],
      "metadata": {
        "id": "6I9tyGZmBuFJ"
      },
      "execution_count": null,
      "outputs": []
    }
  ]
}