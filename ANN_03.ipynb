{
  "nbformat": 4,
  "nbformat_minor": 0,
  "metadata": {
    "colab": {
      "provenance": []
    },
    "kernelspec": {
      "name": "python3",
      "display_name": "Python 3"
    },
    "language_info": {
      "name": "python"
    }
  },
  "cells": [
    {
      "cell_type": "markdown",
      "source": [
        "# Q3) Write a Python Program using Perceptron Neural Network to recognize even and odd numbers. Given numbers are in ASCII form 0 to 9"
      ],
      "metadata": {
        "id": "PZvkxvyVkfJw"
      }
    },
    {
      "cell_type": "code",
      "execution_count": 2,
      "metadata": {
        "id": "5fWPeq1UB30z"
      },
      "outputs": [],
      "source": [
        "# Training data\n",
        "X_train = [[48], [49], [50], [51], [52], [53], [54], [55], [56], [57]]\n",
        "y_train = [0, 1, 0, 1, 0, 1, 0, 1, 0, 1]\n",
        "\n",
        "# Testing data\n",
        "X_test = [[50], [53], [56]]"
      ]
    },
    {
      "cell_type": "code",
      "source": [
        "from sklearn.linear_model import Perceptron\n",
        "\n",
        "clf = Perceptron()\n",
        "clf.fit(X_train, y_train)\n",
        "\n",
        "predictions = clf.predict(X_test)\n",
        "\n",
        "# Print the predictions\n",
        "for number, prediction in zip(X_test, predictions):\n",
        "    print(f\"ASCII: {number[0]}, Number is {'even' if prediction == 0 else 'odd'}.\")"
      ],
      "metadata": {
        "colab": {
          "base_uri": "https://localhost:8080/"
        },
        "id": "Aw6djO5ijcqw",
        "outputId": "9e354daa-54de-419f-8f42-1e90f56cf143"
      },
      "execution_count": 9,
      "outputs": [
        {
          "output_type": "stream",
          "name": "stdout",
          "text": [
            "ASCII: 50, Number is odd.\n",
            "ASCII: 53, Number is odd.\n",
            "ASCII: 56, Number is odd.\n"
          ]
        }
      ]
    },
    {
      "cell_type": "code",
      "source": [],
      "metadata": {
        "id": "rBVF0abMkX1X"
      },
      "execution_count": null,
      "outputs": []
    }
  ]
}